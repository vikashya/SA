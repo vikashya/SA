{
 "cells": [
  {
   "cell_type": "markdown",
   "metadata": {},
   "source": [
    "## Data Wrangling"
   ]
  },
  {
   "cell_type": "markdown",
   "metadata": {},
   "source": [
    "## Content\n",
    "1. Data Collection\n",
    "2. Consolidating multiple data file into single data set\n",
    "3. Fill the missing values"
   ]
  },
  {
   "cell_type": "markdown",
   "metadata": {},
   "source": [
    "### 1. Data Collection\n",
    "Data collection was done in two steps\n"
   ]
  },
  {
   "cell_type": "markdown",
   "metadata": {},
   "source": [
    "** A. Get Intial Match Summary Data **"
   ]
  },
  {
   "cell_type": "markdown",
   "metadata": {},
   "source": [
    "I had written a site scrapping script to get data from https://www.premierleague.com/ to get data from 2011-12 season to 2018-2019 season. Output of site scrapping script was json file for individual match. Initial json file gave summary information about the match with data attributes like\n",
    "1. Match ID\n",
    "2. Game week\n",
    "3. Date of the match\n",
    "4. Team Playing in the match (Home and Away)\n",
    "5. Attendence in the match\n",
    "6. Final Score\n",
    "7. Match outcome (Home Win, Away Win or Draw)"
   ]
  },
  {
   "cell_type": "markdown",
   "metadata": {},
   "source": [
    "** B. Get the detailed statistics for every match **"
   ]
  },
  {
   "cell_type": "markdown",
   "metadata": {},
   "source": [
    "Wrote a seperate python script to get additional statistics for match\n",
    "1. Formation used\n",
    "2. Total Passes\n",
    "3. Total distance covered by team\n",
    "4. Total clearance\n",
    "5. Touches made\n",
    "6. Possession\n",
    "7. Corner taken\n",
    "8. Chances created\n",
    "9. Yellow cards\n",
    "10. Goals by player role\n",
    "11. Player name and profile\n",
    "\n",
    "Python script <a href='https://github.com/vikashya/SA/blob/master/Capstone-Project-1/scripts/data_extraction_premier_league.py'>data_extraction_premier_league.py</a> is used for get additional stat mentioned above. Script will combine data for individual match and create data for single season"
   ]
  },
  {
   "cell_type": "markdown",
   "metadata": {},
   "source": [
    "### 2. Consolidating multiple data file into single data set"
   ]
  },
  {
   "cell_type": "markdown",
   "metadata": {},
   "source": [
    "Data extracted in Step1 was for individual season. To perform the exploratory data analysis we need to consolidate all individual season detail which is in json into one single file. For purpose of project the consolidated file was created in tsv format"
   ]
  },
  {
   "cell_type": "markdown",
   "metadata": {},
   "source": [
    "Below piece of code takes json data for each season and create tsv file"
   ]
  },
  {
   "cell_type": "code",
   "execution_count": 5,
   "metadata": {
    "collapsed": true
   },
   "outputs": [],
   "source": [
    "##import json\n",
    "##import csv\n",
    "##base_dir= 'data/2018-19/'\n",
    "##input_file_name = base_dir+ '2018-19-premier_league_data.json'\n",
    "##output_file_name = base_dir+'2018-19-premier_league_data.tsv'\n",
    "\n",
    "##with open(input_file_name) as json_file:\n",
    "##  j = json.load(json_file)\n",
    "##tsv_file = open(output_file_name, \"w\")\n",
    "##tsv_writer = csv.writer(tsv_file, delimiter='\\t')   \n",
    "##tsv_writer.writerow(j['0'][0].keys())\n",
    "##for key,values in j.items():\n",
    "##    tsv_writer.writerow(values[0].values())"
   ]
  },
  {
   "cell_type": "markdown",
   "metadata": {},
   "source": [
    "### 3. Fill the missing values"
   ]
  },
  {
   "cell_type": "markdown",
   "metadata": {},
   "source": [
    "After looking at the data which is extracted we see the data is pretty clean and needs no further cleansing. This would just need filling the missing value which is needed for our exploratory data analysis\n",
    "\n",
    "** A. Import the required libraries **"
   ]
  },
  {
   "cell_type": "code",
   "execution_count": 9,
   "metadata": {
    "collapsed": true
   },
   "outputs": [],
   "source": [
    "import pandas as pd\n",
    "import chardet\n",
    "import collections\n",
    "import matplotlib.pyplot as plt\n",
    "import numpy as np\n",
    "pd.set_option('display.max_columns', 15)\n",
    "pd.set_option('display.width', 800)"
   ]
  },
  {
   "cell_type": "markdown",
   "metadata": {},
   "source": [
    "**B. Load the data **"
   ]
  },
  {
   "cell_type": "code",
   "execution_count": 10,
   "metadata": {
    "collapsed": true
   },
   "outputs": [],
   "source": [
    "with open('data/premier_league_data_consolidated.tsv', 'rb') as f:\n",
    "    result = chardet.detect(f.read()) "
   ]
  },
  {
   "cell_type": "markdown",
   "metadata": {},
   "source": [
    "**C. Fill the missing value in dataframe **"
   ]
  },
  {
   "cell_type": "code",
   "execution_count": 13,
   "metadata": {},
   "outputs": [],
   "source": [
    "df_original=pd.read_csv('data/premier_league_data_consolidated.tsv',delimiter='\\t',encoding = result['encoding'])\n",
    "df_completeset_converted = df_original\n",
    "df_completeset_converted['tot_offside_a']=df_completeset_converted['tot_offside_a'].fillna(0)\n",
    "df_completeset_converted['tot_offside_h']=df_completeset_converted['tot_offside_h'].fillna(0)\n",
    "df_completeset_converted['shot_off_target_h']=df_completeset_converted['shot_off_target_h'].fillna(0)\n",
    "df_completeset_converted['shot_off_target_a']=df_completeset_converted['shot_off_target_a'].fillna(0)\n",
    "df_completeset_converted['corner_taken_h']=df_completeset_converted['corner_taken_h'].fillna(0)\n",
    "df_completeset_converted['corner_taken_a']=df_completeset_converted['corner_taken_a'].fillna(0)\n",
    "df_completeset_converted['interception_h']=df_completeset_converted['interception_h'].fillna(0)\n",
    "df_completeset_converted['interception_a']=df_completeset_converted['interception_a'].fillna(0)\n",
    "df_completeset_converted['first_half_goals_h']=df_completeset_converted['first_half_goals_h'].fillna(0)\n",
    "df_completeset_converted['first_half_goals_a']=df_completeset_converted['first_half_goals_a'].fillna(0)\n",
    "df_completeset_converted['goals_openplay_h']=df_completeset_converted['goals_openplay_h'].fillna(0)\n",
    "df_completeset_converted['goals_openplay_a']=df_completeset_converted['goals_openplay_a'].fillna(0)\n",
    "df_completeset_converted['big_chance_created_h']=df_completeset_converted['big_chance_created_h'].fillna(0)\n",
    "df_completeset_converted['big_chance_created_a']=df_completeset_converted['big_chance_created_a'].fillna(0)\n",
    "df_completeset_converted['big_chance_scored_h']=df_completeset_converted['big_chance_scored_h'].fillna(0)\n",
    "df_completeset_converted['big_chance_scored_a']=df_completeset_converted['big_chance_scored_a'].fillna(0)\n",
    "df_completeset_converted['big_chance_missed_h']=df_completeset_converted['big_chance_missed_h'].fillna(0)\n",
    "df_completeset_converted['big_chance_missed_a']=df_completeset_converted['big_chance_missed_a'].fillna(0)\n",
    "df_completeset_converted['own_goal_accrued_h']=df_completeset_converted['own_goal_accrued_h'].fillna(0)\n",
    "df_completeset_converted['own_goal_accrued_a']=df_completeset_converted['own_goal_accrued_a'].fillna(0)\n",
    "df_completeset_converted['saves_h']=df_completeset_converted['saves_h'].fillna(0)\n",
    "df_completeset_converted['saves_a']=df_completeset_converted['saves_a'].fillna(0)\n",
    "df_completeset_converted['tot_yel_card_h']=df_completeset_converted['tot_yel_card_h'].fillna(0)\n",
    "df_completeset_converted['tot_yel_card_a']=df_completeset_converted['tot_yel_card_a'].fillna(0)\n",
    "df_completeset_converted['forward_goals_h']=df_completeset_converted['forward_goals_h'].fillna(0)\n",
    "df_completeset_converted['forward_goals_a']=df_completeset_converted['forward_goals_a'].fillna(0)\n",
    "df_completeset_converted['defender_goals_h']=df_completeset_converted['defender_goals_h'].fillna(0)\n",
    "df_completeset_converted['defender_goals_a']=df_completeset_converted['defender_goals_a'].fillna(0)\n",
    "df_completeset_converted['midfielder_goals_h']=df_completeset_converted['midfielder_goals_h'].fillna(0)\n",
    "df_completeset_converted['midfielder_goals_a']=df_completeset_converted['midfielder_goals_a'].fillna(0)\n",
    "df_completeset_converted['subs_made_h']=df_completeset_converted['subs_made_h'].fillna(0)\n",
    "df_completeset_converted['subs_made_a']=df_completeset_converted['subs_made_a'].fillna(0)"
   ]
  },
  {
   "cell_type": "markdown",
   "metadata": {},
   "source": [
    "We will use this data set in our subsequent Exploratory data analysis"
   ]
  },
  {
   "cell_type": "code",
   "execution_count": null,
   "metadata": {
    "collapsed": true
   },
   "outputs": [],
   "source": []
  }
 ],
 "metadata": {
  "kernelspec": {
   "display_name": "Python 3",
   "language": "python",
   "name": "python3"
  },
  "language_info": {
   "codemirror_mode": {
    "name": "ipython",
    "version": 3
   },
   "file_extension": ".py",
   "mimetype": "text/x-python",
   "name": "python",
   "nbconvert_exporter": "python",
   "pygments_lexer": "ipython3",
   "version": "3.6.1"
  }
 },
 "nbformat": 4,
 "nbformat_minor": 2
}
