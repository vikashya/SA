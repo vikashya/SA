{
 "cells": [
  {
   "cell_type": "markdown",
   "metadata": {},
   "source": [
    "## Machine Learning : In-Depth Analysis\n",
    "\n",
    "\n",
    "Objective of this exercise is to apply different Machine learning algorithm to find match scores and outcome"
   ]
  },
  {
   "cell_type": "markdown",
   "metadata": {},
   "source": [
    "## Content\n",
    "\n",
    "1. Poisson Model to predict the score and probability of winnning\n",
    "    2. Predict the score for last 10 games\n",
    "4. Classification models to predict match outcome\n",
    "    5. KNeighborsClassifier\n",
    "    6. RandomForestClassifier\n",
    "    7. SVC"
   ]
  },
  {
   "cell_type": "markdown",
   "metadata": {},
   "source": [
    "** 1. Poisson Model to predict the score and probability of winnning **"
   ]
  },
  {
   "cell_type": "markdown",
   "metadata": {},
   "source": [
    "** Import necessary libraries and set required configurations **"
   ]
  },
  {
   "cell_type": "code",
   "execution_count": 1,
   "metadata": {},
   "outputs": [],
   "source": [
    "import pandas as pd\n",
    "import chardet\n",
    "import dateutil.parser\n",
    "from dateutil.tz import gettz\n",
    "import statsmodels.api as sm\n",
    "import statsmodels.formula.api as smf\n",
    "from scipy.stats import poisson\n",
    "import numpy as np\n",
    "import seaborn as sns\n",
    "from scipy.special  import comb\n",
    "from sklearn.model_selection import train_test_split\n",
    "from sklearn import svm\n",
    "from sklearn.metrics import auc\n",
    "from sklearn import preprocessing\n",
    "from sklearn.metrics import classification_report, confusion_matrix, accuracy_score,roc_curve,plot_confusion_matrix\n",
    "import matplotlib.pyplot as plt\n",
    "from sklearn.pipeline import Pipeline\n",
    "from sklearn.impute import SimpleImputer\n",
    "from sklearn.compose import ColumnTransformer\n",
    "from sklearn.preprocessing import StandardScaler,OneHotEncoder\n",
    "from sklearn.neighbors import KNeighborsClassifier\n",
    "from sklearn import svm\n",
    "from sklearn.ensemble import RandomForestClassifier"
   ]
  },
  {
   "cell_type": "code",
   "execution_count": 2,
   "metadata": {
    "collapsed": true
   },
   "outputs": [],
   "source": [
    "pd.set_option('display.max_columns', 18)\n",
    "pd.set_option('display.width', 900)"
   ]
  },
  {
   "cell_type": "code",
   "execution_count": 3,
   "metadata": {
    "collapsed": true
   },
   "outputs": [],
   "source": [
    "with open('data/premier_league_data_8seasons-cleaned.tsv', 'rb') as f:\n",
    "    result = chardet.detect(f.read())\n",
    "df= pd.read_csv('data/premier_league_data_8seasons-cleaned.tsv',delimiter='\\t',encoding = result['encoding'])\n",
    "sns.set(style='darkgrid')"
   ]
  },
  {
   "cell_type": "code",
   "execution_count": 4,
   "metadata": {
    "collapsed": true
   },
   "outputs": [],
   "source": [
    "def fill_missing_value(df1):\n",
    "    df1['tot_offside_a'] = df1['tot_offside_a'].fillna(0)\n",
    "    df1['tot_offside_h'] = df1['tot_offside_h'].fillna(0)\n",
    "    df1['shot_off_target_h'] = df1['shot_off_target_h'].fillna(0)\n",
    "    df1['shot_off_target_a'] = df1['shot_off_target_a'].fillna(0)\n",
    "    df1['corner_taken_h'] = df1['corner_taken_h'].fillna(0)\n",
    "    df1['corner_taken_a'] = df1['corner_taken_a'].fillna(0)\n",
    "    df1['interception_h'] = df1['interception_h'].fillna(0)\n",
    "    df1['interception_a'] = df1['interception_a'].fillna(0)\n",
    "    df1['first_half_goals_h'] = df1['first_half_goals_h'].fillna(0)\n",
    "    df1['first_half_goals_a'] = df1['first_half_goals_a'].fillna(0)\n",
    "    df1['goals_openplay_h'] = df1['goals_openplay_h'].fillna(0)\n",
    "    df1['goals_openplay_a'] = df1['goals_openplay_a'].fillna(0)\n",
    "    df1['big_chance_created_h'] = df1['big_chance_created_h'].fillna(0)\n",
    "    df1['big_chance_created_a'] = df1['big_chance_created_a'].fillna(0)\n",
    "    df1['big_chance_scored_h'] = df1['big_chance_scored_h'].fillna(0)\n",
    "    df1['big_chance_scored_a'] = df1['big_chance_scored_a'].fillna(0)\n",
    "    df1['big_chance_missed_h'] = df1['big_chance_missed_h'].fillna(0)\n",
    "    df1['big_chance_missed_a'] = df1['big_chance_missed_a'].fillna(0)\n",
    "    df1['own_goal_accrued_h'] = df1['own_goal_accrued_h'].fillna(0)\n",
    "    df1['own_goal_accrued_a'] = df1['own_goal_accrued_a'].fillna(0)\n",
    "    df1['saves_h'] = df1['saves_h'].fillna(0)\n",
    "    df1['saves_a'] = df1['saves_a'].fillna(0)\n",
    "    df1['tot_yel_card_h'] = df1['tot_yel_card_h'].fillna(0)\n",
    "    df1['tot_yel_card_a'] = df1['tot_yel_card_a'].fillna(0)\n",
    "    df1['forward_goals_h'] = df1['forward_goals_h'].fillna(0)\n",
    "    df1['forward_goals_a'] = df1['forward_goals_a'].fillna(0)\n",
    "    df1['defender_goals_h'] = df1['defender_goals_h'].fillna(0)\n",
    "    df1['defender_goals_a'] = df1['defender_goals_a'].fillna(0)\n",
    "    df1['midfielder_goals_h'] = df1['midfielder_goals_h'].fillna(0)\n",
    "    df1['midfielder_goals_a'] = df1['midfielder_goals_a'].fillna(0)\n",
    "    df1['subs_made_h'] = df1['subs_made_h'].fillna(0)\n",
    "    df1['subs_made_a'] = df1['subs_made_a'].fillna(0)\n",
    "    df1['first_half_goals_h'] = (df1['first_half_goals_h'].fillna(0)).astype(int)\n",
    "    df1['first_half_goals_a'] = (df1['first_half_goals_a'].fillna(0)).astype(int)\n",
    "    df1['seasonid'] = df1['seasonlabel'].str.split(\"/\",n=1,expand=True)[0].astype(int)\n",
    "    return df1\n",
    "\n",
    "def get_seasons_data1 (df1 ,seasonlabel1):\n",
    "    if (seasonlabel1 =='All'):\n",
    "        print ('Getting All Seasons data')\n",
    "        return df1\n",
    "    else:\n",
    "        print('Getting data for season:',seasonlabel1)\n",
    "        return df1[df1['seasonlabel']==seasonlabel1]\n",
    "\n",
    "def get_seasons_data (df1 ,keyval,seasonlabel1,duration):\n",
    "    df1 = df1.sort_values(['gameid'],ascending=True)\n",
    "    if(duration=='past') :\n",
    "        if seasonlabel1 in keyval.keys():\n",
    "            val = int(keyval[seasonlabel1])\n",
    "            l1 = [keyval[i] for i in keyval if keyval[i] <= val]\n",
    "        return(df1[df1.seasonid.isin(l1)][:-20],df1[df1.seasonid.isin(l1)][-20:])\n",
    "    else:\n",
    "        return (df1[df1['seasonlabel']==seasonlabel1][:-20] ,df1[df1['seasonlabel']==seasonlabel1][-20:] )\n",
    "\n",
    "\n",
    "def get_probability (team_h_sc, team_a_sc, max_goals=10):\n",
    "    team_pred = [[poisson.pmf(i, team_avg) for i in range(0, max_goals+1)] for team_avg in [team_h_sc, team_a_sc]]\n",
    "    return(np.outer(np.array(team_pred[0]), np.array(team_pred[1])))\n",
    "\n",
    "def win_probability (array1):\n",
    "    return np.sum(np.tril(array1, -1)) * 100\n",
    "\n",
    "def draw_probability (array1):\n",
    "    return np.sum(np.diag(array1))*100\n",
    "\n",
    "def loss_probability (array1):\n",
    "    return np.sum(np.triu(array1, 1))*100"
   ]
  },
  {
   "cell_type": "code",
   "execution_count": 5,
   "metadata": {
    "collapsed": true
   },
   "outputs": [],
   "source": [
    "df_cleaned = fill_missing_value(df)"
   ]
  },
  {
   "cell_type": "code",
   "execution_count": 6,
   "metadata": {
    "collapsed": true
   },
   "outputs": [],
   "source": [
    "df_cleaned_subset = df_cleaned[['gameid','seasonid','seasonlabel','gamedate','team_h','team_a','score_h','score_a','matchtime','formation_h','formation_a','possession_pct_h','possession_pct_a','corner_taken_h','corner_taken_a','first_half_goals_h','first_half_goals_a']]\n",
    "frame1 = df_cleaned_subset[['gameid','seasonlabel','seasonid','gamedate','matchtime','team_h','team_a','formation_h','possession_pct_h','corner_taken_h','score_h','corner_taken_h','corner_taken_a','first_half_goals_h']].assign(game_type='H').rename(columns={'team_h':'team', 'team_a':'opponent','score_h':'goals','formation_h':'teamFormation','formation_a':'opponentFormation','possession_pct_h':'possession','corner_taken_h':'teamCorners','corner_taken_a':'opponentCorners','first_half_goals_h':'htgoals'})\n",
    "frame2 = df_cleaned_subset[['gameid','seasonlabel','seasonid','gamedate','matchtime','team_a','team_h','formation_a','possession_pct_a','corner_taken_a','score_a','corner_taken_a','corner_taken_h','first_half_goals_a']].assign(game_type='A').rename(columns={'team_a':'team', 'team_h':'opponent','score_a':'goals','formation_a':'teamFormation','formation_h':'opponentFormation','possession_pct_a':'possession','corner_taken_a':'teamCorners','corner_taken_h':'opponentCorners','first_half_goals_a':'htgoals'})\n",
    "df_model_data = pd.concat([frame1,frame2])\n",
    "df_model_data_season = df_model_data\n",
    "\n",
    "# Get only seasons data\n",
    "model_season = '2018/19'\n",
    "current_or_past = 'past'\n",
    "season_key= df_model_data[['seasonid','seasonlabel']].drop_duplicates().reset_index().set_index('seasonlabel')['seasonid'].to_dict()\n"
   ]
  },
  {
   "cell_type": "code",
   "execution_count": 7,
   "metadata": {},
   "outputs": [
    {
     "name": "stdout",
     "output_type": "stream",
     "text": [
      "<class 'pandas.core.frame.DataFrame'>\n",
      "Int64Index: 20 entries, 2660 to 2669\n",
      "Data columns (total 15 columns):\n",
      " #   Column           Non-Null Count  Dtype  \n",
      "---  ------           --------------  -----  \n",
      " 0   gameid           20 non-null     int64  \n",
      " 1   seasonlabel      20 non-null     object \n",
      " 2   seasonid         20 non-null     int32  \n",
      " 3   gamedate         20 non-null     object \n",
      " 4   matchtime        20 non-null     int64  \n",
      " 5   team             20 non-null     object \n",
      " 6   opponent         20 non-null     object \n",
      " 7   teamFormation    20 non-null     int64  \n",
      " 8   possession       20 non-null     int64  \n",
      " 9   teamCorners      20 non-null     float64\n",
      " 10  goals            20 non-null     int64  \n",
      " 11  teamCorners      20 non-null     float64\n",
      " 12  opponentCorners  20 non-null     float64\n",
      " 13  htgoals          20 non-null     int32  \n",
      " 14  game_type        20 non-null     object \n",
      "dtypes: float64(3), int32(2), int64(5), object(5)\n",
      "memory usage: 2.3+ KB\n",
      "None\n"
     ]
    }
   ],
   "source": [
    "ret_data = get_seasons_data(df_model_data,season_key, model_season,current_or_past)\n",
    "df_model_data_season = ret_data[0]\n",
    "df_predict_data_season = ret_data[1]\n",
    "print(df_predict_data_season.info())"
   ]
  },
  {
   "cell_type": "markdown",
   "metadata": {},
   "source": [
    "** Poisson model with initial set of Feature list to predict last 20 match of season **"
   ]
  },
  {
   "cell_type": "code",
   "execution_count": 8,
   "metadata": {},
   "outputs": [
    {
     "name": "stdout",
     "output_type": "stream",
     "text": [
      "                 Generalized Linear Model Regression Results                  \n",
      "==============================================================================\n",
      "Dep. Variable:                  goals   No. Observations:                 6060\n",
      "Model:                            GLM   Df Residuals:                     5992\n",
      "Model Family:                 Poisson   Df Model:                           67\n",
      "Link Function:                    log   Scale:                          1.0000\n",
      "Method:                          IRLS   Log-Likelihood:                -8693.0\n",
      "Date:                Sun, 31 May 2020   Deviance:                       6714.2\n",
      "Time:                        22:28:03   Pearson chi2:                 5.89e+03\n",
      "No. Iterations:                     5                                         \n",
      "Covariance Type:            nonrobust                                         \n",
      "========================================================================================================\n",
      "                                           coef    std err          z      P>|z|      [0.025      0.975]\n",
      "--------------------------------------------------------------------------------------------------------\n",
      "Intercept                                0.9638      0.118      8.179      0.000       0.733       1.195\n",
      "game_type[T.H]                           0.2968      0.022     13.193      0.000       0.253       0.341\n",
      "team[T.Arsenal]                          0.4274      0.084      5.105      0.000       0.263       0.591\n",
      "team[T.Aston Villa]                     -0.3904      0.103     -3.776      0.000      -0.593      -0.188\n",
      "team[T.Blackburn Rovers]                -0.2009      0.162     -1.239      0.215      -0.519       0.117\n",
      "team[T.Bolton Wanderers]                -0.1736      0.165     -1.055      0.291      -0.496       0.149\n",
      "team[T.Brighton and Hove Albion]        -0.4698      0.141     -3.332      0.001      -0.746      -0.193\n",
      "team[T.Burnley]                         -0.3988      0.110     -3.641      0.000      -0.613      -0.184\n",
      "team[T.Cardiff City]                    -0.5732      0.145     -3.965      0.000      -0.857      -0.290\n",
      "team[T.Chelsea]                          0.3701      0.084      4.424      0.000       0.206       0.534\n",
      "team[T.Crystal Palace]                  -0.2197      0.095     -2.316      0.021      -0.406      -0.034\n",
      "team[T.Everton]                          0.0661      0.086      0.767      0.443      -0.103       0.235\n",
      "team[T.Fulham]                          -0.2050      0.105     -1.959      0.050      -0.410    6.59e-05\n",
      "team[T.Huddersfield Town]               -0.7479      0.160     -4.678      0.000      -1.061      -0.435\n",
      "team[T.Hull City]                       -0.3782      0.120     -3.151      0.002      -0.613      -0.143\n",
      "team[T.Leicester City]                   0.0245      0.094      0.261      0.794      -0.160       0.209\n",
      "team[T.Liverpool]                        0.4473      0.083      5.364      0.000       0.284       0.611\n",
      "team[T.Manchester City]                  0.6501      0.083      7.877      0.000       0.488       0.812\n",
      "team[T.Manchester United]                0.3406      0.084      4.051      0.000       0.176       0.505\n",
      "team[T.Middlesbrough]                   -0.6235      0.205     -3.036      0.002      -1.026      -0.221\n",
      "team[T.Newcastle United]                -0.1988      0.092     -2.169      0.030      -0.378      -0.019\n",
      "team[T.Norwich City]                    -0.3325      0.110     -3.035      0.002      -0.547      -0.118\n",
      "team[T.Queens Park Rangers]             -0.3568      0.118     -3.025      0.002      -0.588      -0.126\n",
      "team[T.Reading]                         -0.2790      0.169     -1.648      0.099      -0.611       0.053\n",
      "team[T.Southampton]                     -0.0276      0.090     -0.307      0.759      -0.204       0.148\n",
      "team[T.Stoke City]                      -0.2936      0.093     -3.147      0.002      -0.476      -0.111\n",
      "team[T.Sunderland]                      -0.3347      0.097     -3.446      0.001      -0.525      -0.144\n",
      "team[T.Swansea City]                    -0.1255      0.092     -1.370      0.171      -0.305       0.054\n",
      "team[T.Tottenham Hotspur]                0.3522      0.084      4.178      0.000       0.187       0.517\n",
      "team[T.Watford]                         -0.1550      0.104     -1.491      0.136      -0.359       0.049\n",
      "team[T.West Bromwich Albion]            -0.2996      0.093     -3.218      0.001      -0.482      -0.117\n",
      "team[T.West Ham United]                 -0.0966      0.090     -1.073      0.283      -0.273       0.080\n",
      "team[T.Wigan Athletic]                  -0.1305      0.129     -1.015      0.310      -0.382       0.121\n",
      "team[T.Wolverhampton Wanderers]         -0.2081      0.129     -1.612      0.107      -0.461       0.045\n",
      "opponent[T.Arsenal]                     -0.4978      0.083     -5.971      0.000      -0.661      -0.334\n",
      "opponent[T.Aston Villa]                 -0.0035      0.084     -0.042      0.967      -0.168       0.161\n",
      "opponent[T.Blackburn Rovers]             0.2729      0.130      2.097      0.036       0.018       0.528\n",
      "opponent[T.Bolton Wanderers]             0.2031      0.130      1.557      0.120      -0.053       0.459\n",
      "opponent[T.Brighton and Hove Albion]    -0.0818      0.114     -0.716      0.474      -0.306       0.142\n",
      "opponent[T.Burnley]                     -0.1268      0.093     -1.361      0.174      -0.309       0.056\n",
      "opponent[T.Cardiff City]                 0.2166      0.105      2.062      0.039       0.011       0.423\n",
      "opponent[T.Chelsea]                     -0.5881      0.085     -6.917      0.000      -0.755      -0.421\n",
      "opponent[T.Crystal Palace]              -0.1356      0.084     -1.612      0.107      -0.300       0.029\n",
      "opponent[T.Everton]                     -0.3609      0.081     -4.446      0.000      -0.520      -0.202\n",
      "opponent[T.Fulham]                       0.0692      0.087      0.796      0.426      -0.101       0.240\n",
      "opponent[T.Huddersfield Town]            0.0531      0.107      0.496      0.620      -0.156       0.263\n",
      "opponent[T.Hull City]                   -0.0237      0.097     -0.245      0.807      -0.213       0.166\n",
      "opponent[T.Leicester City]              -0.1691      0.088     -1.926      0.054      -0.341       0.003\n",
      "opponent[T.Liverpool]                   -0.5279      0.084     -6.293      0.000      -0.692      -0.363\n",
      "opponent[T.Manchester City]             -0.7784      0.089     -8.734      0.000      -0.953      -0.604\n",
      "opponent[T.Manchester United]           -0.6224      0.086     -7.273      0.000      -0.790      -0.455\n",
      "opponent[T.Middlesbrough]               -0.2085      0.151     -1.382      0.167      -0.504       0.087\n",
      "opponent[T.Newcastle United]            -0.0909      0.080     -1.138      0.255      -0.248       0.066\n",
      "opponent[T.Norwich City]                 0.0094      0.089      0.105      0.916      -0.165       0.183\n",
      "opponent[T.Queens Park Rangers]          0.0546      0.095      0.577      0.564      -0.131       0.240\n",
      "opponent[T.Reading]                      0.2067      0.133      1.551      0.121      -0.055       0.468\n",
      "opponent[T.Southampton]                 -0.3031      0.082     -3.687      0.000      -0.464      -0.142\n",
      "opponent[T.Stoke City]                  -0.1660      0.081     -2.048      0.041      -0.325      -0.007\n",
      "opponent[T.Sunderland]                  -0.0669      0.083     -0.808      0.419      -0.229       0.095\n",
      "opponent[T.Swansea City]                -0.2188      0.081     -2.711      0.007      -0.377      -0.061\n",
      "opponent[T.Tottenham Hotspur]           -0.5485      0.084     -6.516      0.000      -0.713      -0.384\n",
      "opponent[T.Watford]                     -0.0747      0.090     -0.829      0.407      -0.251       0.102\n",
      "opponent[T.West Bromwich Albion]        -0.1320      0.081     -1.622      0.105      -0.292       0.028\n",
      "opponent[T.West Ham United]             -0.1218      0.080     -1.514      0.130      -0.279       0.036\n",
      "opponent[T.Wigan Athletic]              -0.0004      0.107     -0.003      0.997      -0.210       0.209\n",
      "opponent[T.Wolverhampton Wanderers]      0.0060      0.109      0.055      0.956      -0.207       0.219\n",
      "teamFormation                         2.695e-06   2.04e-06      1.321      0.186    -1.3e-06    6.69e-06\n",
      "possession                              -0.0122      0.001     -8.557      0.000      -0.015      -0.009\n",
      "========================================================================================================\n"
     ]
    }
   ],
   "source": [
    "pmodel = smf.glm(formula=\"goals ~ game_type + team + opponent+teamFormation+possession\", data=df_model_data_season,family=sm.families.Poisson()).fit()\n",
    "print(pmodel.summary())"
   ]
  },
  {
   "cell_type": "code",
   "execution_count": 9,
   "metadata": {},
   "outputs": [
    {
     "name": "stdout",
     "output_type": "stream",
     "text": [
      "         Date                      Team                 Opponent Actual Score Predicted Score  Win Prob.(T)  Draw Prob  Loss Prob.(T)\n",
      "0  05/12/2019  Brighton and Hove Albion          Manchester City          1:4       0.77:1.85         14.88      21.95          63.16\n",
      "1  05/12/2019                   Burnley                  Arsenal          1:3        0.9:1.72         19.38      23.71          56.90\n",
      "2  05/12/2019            Crystal Palace          AFC Bournemouth          5:3       1.64:1.18         47.92      24.45          27.62\n",
      "3  05/12/2019                    Fulham         Newcastle United          0:4       1.16:1.58         27.91      24.96          47.13\n",
      "4  05/12/2019            Leicester City                  Chelsea          0:0       1.16:1.68         26.29      24.14          49.57\n",
      "5  05/12/2019                 Liverpool  Wolverhampton Wanderers          2:0        2.7:0.76         78.06      13.74           8.00\n",
      "6  05/12/2019         Manchester United             Cardiff City          0:2       2.56:0.58         79.85      13.65           6.37\n",
      "7  05/12/2019               Southampton        Huddersfield Town          1:1        1.9:0.52         70.46      20.16           9.36\n",
      "8  05/12/2019         Tottenham Hotspur                  Everton          2:2       1.81:0.94         57.65      22.91          19.43\n",
      "9  05/12/2019                   Watford          West Ham United          1:4        1.51:1.2         44.32      25.44          30.23\n"
     ]
    }
   ],
   "source": [
    "lgameid=  df_predict_data_season.gameid.unique()\n",
    "df_pred_output = pd.DataFrame(columns=['Date','Team','Opponent','Actual Score','Predicted Score','Win Prob.(T)','Draw Prob','Loss Prob.(T)'])\n",
    "lst_pred_output = []\n",
    "for index , row in df_cleaned_subset[df_cleaned_subset.gameid.isin(lgameid)].iterrows():\n",
    "    tzinfos = {\"BST\": -7200, \"CST\": gettz(\"America/Chicago\")}\n",
    "    gd = dateutil.parser.parse(row['gamedate'],tzinfos=tzinfos).strftime(\"%m/%d/%Y\")\n",
    "    tm1 = row['team_h']\n",
    "    tm2 = row['team_a']\n",
    "    fm1=  row['formation_h']\n",
    "    fm2=  row['formation_a']\n",
    "    pos1 = row['possession_pct_h']\n",
    "    pos2 = row['possession_pct_a']\n",
    "    htg1 = row['first_half_goals_h']\n",
    "    htg2 = row['first_half_goals_a']\n",
    "    tm1sc = pmodel.predict(pd.DataFrame(data={'team': tm1, 'opponent': tm2,'possession':pos1,\n",
    "                                                'game_type': 'H','teamFormation':fm1}, index=[1])).values[0]\n",
    "    tm2sc = pmodel.predict(pd.DataFrame(data={'team': tm2, 'opponent': tm1,'possession':pos2,\n",
    "                                                'game_type': 'A','teamFormation':fm2}, index=[1])).values[0]\n",
    "    sc_mat = get_probability( tm1sc, tm2sc,max_goals=8)\n",
    "    wp = win_probability(sc_mat)\n",
    "    dp = draw_probability(sc_mat)\n",
    "    lp = loss_probability(sc_mat)\n",
    "    lst_pred_output.append({'Date':gd,'Team':tm1,'Opponent':tm2,'Actual Score':str(row['score_h'])+':'+str(row['score_a']),'Predicted Score':str(round(tm1sc,2))+':'+str(round(tm2sc,2)),'Win Prob.(T)':round(wp,2),'Draw Prob':round(dp,2),'Loss Prob.(T)':round(lp,2)})\n",
    "df_pred_output = df_pred_output.append(lst_pred_output)\n",
    "print(df_pred_output)"
   ]
  },
  {
   "cell_type": "markdown",
   "metadata": {},
   "source": [
    "** Classification models to predict match outcome **"
   ]
  },
  {
   "cell_type": "code",
   "execution_count": 10,
   "metadata": {},
   "outputs": [],
   "source": [
    "df_model = df_cleaned[['gameid','team_h','team_a','matchtime','formation_h','formation_a','possession_pct_h','possession_pct_a','corner_taken_h','corner_taken_a','score_h','score_a','matchoutcome']]\n",
    "X = df_model[['team_h','team_a','formation_h','formation_a','possession_pct_h','corner_taken_h','corner_taken_a']]\n",
    "y = np.array(df_model['matchoutcome'])"
   ]
  },
  {
   "cell_type": "code",
   "execution_count": 11,
   "metadata": {
    "collapsed": true
   },
   "outputs": [],
   "source": [
    "X_train, X_test, y_train, y_test = train_test_split(X, y, test_size = 0.2, random_state=42)\n",
    "numerical_features = ['formation_h','formation_a','possession_pct_h','corner_taken_h','corner_taken_a']\n",
    "numeric_transformer = Pipeline(steps=[\n",
    "    ('imputer', SimpleImputer(strategy='median'))])\n",
    "\n",
    "categorical_features = ['team_h','team_a']\n",
    "categorical_transformer = Pipeline(steps=[\n",
    "    ('imputer', SimpleImputer(strategy='constant', fill_value='missing')),\n",
    "    ('onehot', OneHotEncoder(handle_unknown='ignore'))])\n",
    "\n",
    "preprocessor = ColumnTransformer(\n",
    "    transformers=[\n",
    "        ('num', numeric_transformer, numerical_features),\n",
    "        ('cat', categorical_transformer, categorical_features)])"
   ]
  },
  {
   "cell_type": "markdown",
   "metadata": {},
   "source": [
    "** KNeighborsClassifier **"
   ]
  },
  {
   "cell_type": "code",
   "execution_count": 12,
   "metadata": {},
   "outputs": [
    {
     "data": {
      "text/plain": [
       "Pipeline(steps=[('preprocessor',\n",
       "                 ColumnTransformer(transformers=[('num',\n",
       "                                                  Pipeline(steps=[('imputer',\n",
       "                                                                   SimpleImputer(strategy='median'))]),\n",
       "                                                  ['formation_h', 'formation_a',\n",
       "                                                   'possession_pct_h',\n",
       "                                                   'corner_taken_h',\n",
       "                                                   'corner_taken_a']),\n",
       "                                                 ('cat',\n",
       "                                                  Pipeline(steps=[('imputer',\n",
       "                                                                   SimpleImputer(fill_value='missing',\n",
       "                                                                                 strategy='constant')),\n",
       "                                                                  ('onehot',\n",
       "                                                                   OneHotEncoder(handle_unknown='ignore'))]),\n",
       "                                                  ['team_h', 'team_a'])])),\n",
       "                ('classifier', KNeighborsClassifier(n_neighbors=10))])"
      ]
     },
     "execution_count": 12,
     "metadata": {},
     "output_type": "execute_result"
    }
   ],
   "source": [
    "clf_k = Pipeline(steps=[('preprocessor', preprocessor),('classifier', KNeighborsClassifier(n_neighbors=10))])\n",
    "clf_k.fit(X_train,y_train)"
   ]
  },
  {
   "cell_type": "code",
   "execution_count": 13,
   "metadata": {
    "collapsed": true
   },
   "outputs": [],
   "source": [
    "test_pred_k = clf_k.predict(X_test)\n",
    "test_pred_prob_k = clf_k.predict_proba(X_test)"
   ]
  },
  {
   "cell_type": "code",
   "execution_count": 14,
   "metadata": {},
   "outputs": [
    {
     "name": "stdout",
     "output_type": "stream",
     "text": [
      "confusion_matrix: [[ 66  31 102]\n",
      " [ 36  22  88]\n",
      " [ 54  31 178]]\n",
      "classification_report:               precision    recall  f1-score   support\n",
      "\n",
      "           A       0.42      0.33      0.37       199\n",
      "           D       0.26      0.15      0.19       146\n",
      "           H       0.48      0.68      0.56       263\n",
      "\n",
      "    accuracy                           0.44       608\n",
      "   macro avg       0.39      0.39      0.38       608\n",
      "weighted avg       0.41      0.44      0.41       608\n",
      "\n",
      "accuracy_score: 0.4375\n"
     ]
    }
   ],
   "source": [
    "print('confusion_matrix:', confusion_matrix(y_test, test_pred_k))\n",
    "print('classification_report:', classification_report(y_test, test_pred_k))\n",
    "print('accuracy_score:', accuracy_score(y_test, test_pred_k))\n"
   ]
  },
  {
   "cell_type": "markdown",
   "metadata": {},
   "source": [
    "** RandomForestClassifier **"
   ]
  },
  {
   "cell_type": "code",
   "execution_count": 15,
   "metadata": {},
   "outputs": [
    {
     "data": {
      "text/plain": [
       "Pipeline(steps=[('preprocessor',\n",
       "                 ColumnTransformer(transformers=[('num',\n",
       "                                                  Pipeline(steps=[('imputer',\n",
       "                                                                   SimpleImputer(strategy='median'))]),\n",
       "                                                  ['formation_h', 'formation_a',\n",
       "                                                   'possession_pct_h',\n",
       "                                                   'corner_taken_h',\n",
       "                                                   'corner_taken_a']),\n",
       "                                                 ('cat',\n",
       "                                                  Pipeline(steps=[('imputer',\n",
       "                                                                   SimpleImputer(fill_value='missing',\n",
       "                                                                                 strategy='constant')),\n",
       "                                                                  ('onehot',\n",
       "                                                                   OneHotEncoder(handle_unknown='ignore'))]),\n",
       "                                                  ['team_h', 'team_a'])])),\n",
       "                ('classifier', RandomForestClassifier(n_estimators=200))])"
      ]
     },
     "execution_count": 15,
     "metadata": {},
     "output_type": "execute_result"
    }
   ],
   "source": [
    "clf_r = Pipeline(steps=[('preprocessor', preprocessor),\n",
    "                      ('classifier', RandomForestClassifier(n_estimators=200))])\n",
    "clf_r.fit(X_train,y_train)"
   ]
  },
  {
   "cell_type": "code",
   "execution_count": 16,
   "metadata": {
    "collapsed": true
   },
   "outputs": [],
   "source": [
    "test_pred_r = clf_r.predict(X_test)\n",
    "test_pred_prob_r = clf_r.predict_proba(X_test)"
   ]
  },
  {
   "cell_type": "code",
   "execution_count": 17,
   "metadata": {},
   "outputs": [
    {
     "name": "stdout",
     "output_type": "stream",
     "text": [
      "confusion_matrix: [[ 88  22  89]\n",
      " [ 38  15  93]\n",
      " [ 34  24 205]]\n",
      "classification_report:               precision    recall  f1-score   support\n",
      "\n",
      "           A       0.55      0.44      0.49       199\n",
      "           D       0.25      0.10      0.14       146\n",
      "           H       0.53      0.78      0.63       263\n",
      "\n",
      "    accuracy                           0.51       608\n",
      "   macro avg       0.44      0.44      0.42       608\n",
      "weighted avg       0.47      0.51      0.47       608\n",
      "\n",
      "accuracy_score: 0.506578947368421\n"
     ]
    }
   ],
   "source": [
    "print('confusion_matrix:', confusion_matrix(y_test, test_pred_r))\n",
    "print('classification_report:', classification_report(y_test, test_pred_r))\n",
    "print('accuracy_score:', accuracy_score(y_test, test_pred_r))"
   ]
  },
  {
   "cell_type": "markdown",
   "metadata": {},
   "source": [
    "** SVC **"
   ]
  },
  {
   "cell_type": "code",
   "execution_count": 18,
   "metadata": {},
   "outputs": [
    {
     "data": {
      "text/plain": [
       "Pipeline(steps=[('preprocessor',\n",
       "                 ColumnTransformer(transformers=[('num',\n",
       "                                                  Pipeline(steps=[('imputer',\n",
       "                                                                   SimpleImputer(strategy='median'))]),\n",
       "                                                  ['formation_h', 'formation_a',\n",
       "                                                   'possession_pct_h',\n",
       "                                                   'corner_taken_h',\n",
       "                                                   'corner_taken_a']),\n",
       "                                                 ('cat',\n",
       "                                                  Pipeline(steps=[('imputer',\n",
       "                                                                   SimpleImputer(fill_value='missing',\n",
       "                                                                                 strategy='constant')),\n",
       "                                                                  ('onehot',\n",
       "                                                                   OneHotEncoder(handle_unknown='ignore'))]),\n",
       "                                                  ['team_h', 'team_a'])])),\n",
       "                ('classifier', SVC(gamma=0.2, kernel='linear'))])"
      ]
     },
     "execution_count": 18,
     "metadata": {},
     "output_type": "execute_result"
    }
   ],
   "source": [
    "clf_s = Pipeline(steps=[('preprocessor', preprocessor),\n",
    "                      ('classifier', svm.SVC(kernel='linear',C=1.0,gamma=0.2))])\n",
    "clf_s.fit(X_train,y_train)"
   ]
  },
  {
   "cell_type": "code",
   "execution_count": 20,
   "metadata": {},
   "outputs": [],
   "source": [
    "test_pred_s = clf_s.predict(X_test)"
   ]
  },
  {
   "cell_type": "code",
   "execution_count": 21,
   "metadata": {},
   "outputs": [
    {
     "name": "stdout",
     "output_type": "stream",
     "text": [
      "confusion_matrix: [[ 71   5 123]\n",
      " [ 20   2 124]\n",
      " [ 18   5 240]]\n",
      "classification_report:               precision    recall  f1-score   support\n",
      "\n",
      "           A       0.65      0.36      0.46       199\n",
      "           D       0.17      0.01      0.03       146\n",
      "           H       0.49      0.91      0.64       263\n",
      "\n",
      "    accuracy                           0.51       608\n",
      "   macro avg       0.44      0.43      0.38       608\n",
      "weighted avg       0.47      0.51      0.43       608\n",
      "\n",
      "accuracy_score: 0.5148026315789473\n"
     ]
    }
   ],
   "source": [
    "print('confusion_matrix:', confusion_matrix(y_test, test_pred_s))\n",
    "print('classification_report:', classification_report(y_test, test_pred_s))\n",
    "print('accuracy_score:', accuracy_score(y_test, test_pred_s))"
   ]
  }
 ],
 "metadata": {
  "kernelspec": {
   "display_name": "Python 3",
   "language": "python",
   "name": "python3"
  },
  "language_info": {
   "codemirror_mode": {
    "name": "ipython",
    "version": 3
   },
   "file_extension": ".py",
   "mimetype": "text/x-python",
   "name": "python",
   "nbconvert_exporter": "python",
   "pygments_lexer": "ipython3",
   "version": "3.6.1"
  }
 },
 "nbformat": 4,
 "nbformat_minor": 2
}
