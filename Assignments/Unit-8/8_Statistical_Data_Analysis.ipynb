{
 "cells": [
  {
   "cell_type": "markdown",
   "metadata": {},
   "source": [
    "## Statistical Data Analysis"
   ]
  },
  {
   "cell_type": "markdown",
   "metadata": {},
   "source": [
    "### Data Analysis"
   ]
  },
  {
   "cell_type": "code",
   "execution_count": 1,
   "metadata": {
    "collapsed": true
   },
   "outputs": [],
   "source": [
    "import pandas as pd\n",
    "import chardet\n",
    "import scipy\n",
    "from scipy.stats import poisson"
   ]
  },
  {
   "cell_type": "code",
   "execution_count": 2,
   "metadata": {
    "collapsed": true
   },
   "outputs": [],
   "source": [
    "with open('data/premier_league_data_consolidated.tsv', 'rb') as f:\n",
    "    result = chardet.detect(f.read())    "
   ]
  },
  {
   "cell_type": "code",
   "execution_count": 4,
   "metadata": {
    "collapsed": true
   },
   "outputs": [],
   "source": [
    "df =pd.read_csv('data/premier_league_data_consolidated.tsv',delimiter='\\t',encoding = result['encoding'])"
   ]
  },
  {
   "cell_type": "markdown",
   "metadata": {},
   "source": [
    "### Hypothesis Test"
   ]
  },
  {
   "cell_type": "markdown",
   "metadata": {},
   "source": [
    "Average home goal score for Chelsea in 2015/16 season was 1.6842. They made some changes to strategy to do better in next season. In the first 6 games for Arsenal in next season which is 2016/17 they scored goals. Is there enough evidence at 5% significance level which suggest that game plan for new seasoned worked and goal scoring increased for Chelsea. "
   ]
  },
  {
   "cell_type": "markdown",
   "metadata": {},
   "source": [
    "** Probability of events in Poisson distribution **"
   ]
  },
  {
   "cell_type": "markdown",
   "metadata": {},
   "source": [
    "$$P(k) = \\frac{y^ke^{-y}}{k!}$$"
   ]
  },
  {
   "cell_type": "code",
   "execution_count": 5,
   "metadata": {},
   "outputs": [
    {
     "name": "stdout",
     "output_type": "stream",
     "text": [
      "Mean Home Goal Scored by Chelsea 1.6842\n"
     ]
    }
   ],
   "source": [
    "df_s_1516 = df[df['seasonlabel']=='2015/16']\n",
    "\n",
    "mean_gs_1516 = round(df_s_1516['score_h'].mean(),4)\n",
    "\n",
    "mean_gs_1516_c = round(df_s_1516[df_s_1516['team_h']=='Chelsea']['score_h'].mean(),4)\n",
    "\n",
    "print('Mean Home Goal Scored by Chelsea', mean_gs_1516_c)\n"
   ]
  },
  {
   "cell_type": "markdown",
   "metadata": {},
   "source": [
    "P(k) is probability of k event in interval "
   ]
  },
  {
   "cell_type": "markdown",
   "metadata": {},
   "source": [
    "** $H_{0}$ (Null Hypothesis) ** is Chelsea scoring rate at home  is equal to 1.684; ** k = 1.684 **"
   ]
  },
  {
   "cell_type": "markdown",
   "metadata": {},
   "source": [
    "** $H_{1}$ (Alternate Hypothesis)** is Chelsea scoring rate at home  is greater than 1.684; ** k > 1.684 **"
   ]
  },
  {
   "cell_type": "markdown",
   "metadata": {},
   "source": [
    "** Conduct Test ** "
   ]
  },
  {
   "cell_type": "code",
   "execution_count": 7,
   "metadata": {},
   "outputs": [
    {
     "name": "stdout",
     "output_type": "stream",
     "text": [
      "Test Value : 18\n",
      "Rate or Lambda : 10.1052\n"
     ]
    }
   ],
   "source": [
    "n_match = 6\n",
    "\n",
    "df_s_1617 = df[df['seasonlabel']=='2016/17']\n",
    "\n",
    "\n",
    "df_1617_c = df_s_1617[df_s_1617['team_h']=='Chelsea'].sort_values('gameid').head(n_match)\n",
    "\n",
    "gs_1617_c = df_1617_c['score_h'].sum()\n",
    "\n",
    "mean_gs_1617_c = round(df_s_1617[df_s_1617['team_h']=='Chelsea']['score_h'].mean(),4)\n",
    "\n",
    "test_value = gs_1617_c\n",
    "lda= mean_gs_1516_c*n_match\n",
    "\n",
    "print ('Test Value :',test_value)\n",
    "print ('Rate or Lambda :',lda)"
   ]
  },
  {
   "cell_type": "code",
   "execution_count": 10,
   "metadata": {
    "collapsed": true
   },
   "outputs": [],
   "source": [
    "def get_poisson_prob(gs_count) :\n",
    "    poisson_prob = {}\n",
    "    for i in range (gs_count):\n",
    "        poisson_prob[i] = poisson.cdf(i,lda)\n",
    "    return poisson_prob"
   ]
  },
  {
   "cell_type": "code",
   "execution_count": 11,
   "metadata": {},
   "outputs": [
    {
     "name": "stdout",
     "output_type": "stream",
     "text": [
      "0 \t 4e-05\n",
      "1 \t 0.00045\n",
      "2 \t 0.00254\n",
      "3 \t 0.00957\n",
      "4 \t 0.02732\n",
      "5 \t 0.06321\n",
      "6 \t 0.12365\n",
      "7 \t 0.21089\n",
      "8 \t 0.3211\n",
      "9 \t 0.44484\n",
      "10 \t 0.56988\n",
      "11 \t 0.68475\n",
      "12 \t 0.78148\n",
      "13 \t 0.85667\n",
      "14 \t 0.91095\n",
      "15 \t 0.94751\n",
      "16 \t 0.9706\n",
      "17 \t 0.98433\n",
      "18 \t 0.99204\n",
      "19 \t 0.99613\n",
      "20 \t 0.9982\n",
      "21 \t 0.9992\n",
      "22 \t 0.99966\n",
      "23 \t 0.99986\n",
      "24 \t 0.99994\n"
     ]
    }
   ],
   "source": [
    "poisson_prob = get_poisson_prob(25)\n",
    "for k,v in poisson_prob.items():\n",
    "    print (k,'\\t',round(v,5))"
   ]
  },
  {
   "cell_type": "markdown",
   "metadata": {},
   "source": [
    "We need to find $P(k>=18)$ which will be equal to 1- $P(k<=17)$ "
   ]
  },
  {
   "cell_type": "markdown",
   "metadata": {},
   "source": [
    "From the table above $P(k<=17)$ is 0.98433"
   ]
  },
  {
   "cell_type": "markdown",
   "metadata": {},
   "source": [
    "$P(k >=18)$ = 1 - 0.98433 = 0.0157 = 1.57%"
   ]
  },
  {
   "cell_type": "markdown",
   "metadata": {},
   "source": [
    "** At 5% significance level there is enough evidence to suggest that, with same rate of scoring from 2015/16 season in home game there is no way Chelsea would have scored 18 goals in first 6 games of new season. This means the rate of scoring has increased. We will accept the alternate hypothesis and reject the null hypothesis**"
   ]
  }
 ],
 "metadata": {
  "kernelspec": {
   "display_name": "Python 3",
   "language": "python",
   "name": "python3"
  },
  "language_info": {
   "codemirror_mode": {
    "name": "ipython",
    "version": 3
   },
   "file_extension": ".py",
   "mimetype": "text/x-python",
   "name": "python",
   "nbconvert_exporter": "python",
   "pygments_lexer": "ipython3",
   "version": "3.6.1"
  }
 },
 "nbformat": 4,
 "nbformat_minor": 2
}
