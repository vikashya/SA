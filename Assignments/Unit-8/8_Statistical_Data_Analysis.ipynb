{
 "cells": [
  {
   "cell_type": "markdown",
   "metadata": {},
   "source": [
    "## Statistical Data Analysis"
   ]
  },
  {
   "cell_type": "markdown",
   "metadata": {},
   "source": [
    "### Data Analysis"
   ]
  },
  {
   "cell_type": "code",
   "execution_count": 1,
   "metadata": {
    "collapsed": true
   },
   "outputs": [],
   "source": [
    "import pandas as pd\n",
    "import chardet\n",
    "import scipy\n",
    "from scipy.stats import poisson"
   ]
  },
  {
   "cell_type": "code",
   "execution_count": 2,
   "metadata": {
    "collapsed": true
   },
   "outputs": [],
   "source": [
    "with open('data/premier_league_data_consolidated.tsv', 'rb') as f:\n",
    "    result = chardet.detect(f.read())    "
   ]
  },
  {
   "cell_type": "code",
   "execution_count": 4,
   "metadata": {},
   "outputs": [],
   "source": [
    "df =pd.read_csv('data/premier_league_data_consolidated.tsv',delimiter='\\t',encoding = result['encoding'])"
   ]
  },
  {
   "cell_type": "markdown",
   "metadata": {},
   "source": [
    "### Hypothesis Test"
   ]
  },
  {
   "cell_type": "markdown",
   "metadata": {},
   "source": [
    "Average home goal score for Chelsea in 2018/19 season was 2.0526. From the Random sampling of 5 games for Arsenal in same season it was found that they had scored 12 goals. At 5% significance level we would like to check if Chelsea and Arsenal score same goals in season"
   ]
  },
  {
   "cell_type": "markdown",
   "metadata": {},
   "source": [
    "** Probability of events in Poisson distribution **"
   ]
  },
  {
   "cell_type": "markdown",
   "metadata": {},
   "source": [
    "$$P(k) = \\frac{y^ke^{-y}}{k!}$$"
   ]
  },
  {
   "cell_type": "markdown",
   "metadata": {},
   "source": [
    "P(k) is probability of k event in interval"
   ]
  },
  {
   "cell_type": "markdown",
   "metadata": {},
   "source": [
    "$H_{0}$ (Null Hypothesis) in this case is Chelsea and Arsenal score same goals in season"
   ]
  },
  {
   "cell_type": "markdown",
   "metadata": {},
   "source": [
    "$H_{1}$ (Alternate Hypothesis) is Chelsea and Arsenal scored different goals in season"
   ]
  },
  {
   "cell_type": "markdown",
   "metadata": {},
   "source": [
    "** Data Validation ** "
   ]
  },
  {
   "cell_type": "code",
   "execution_count": 8,
   "metadata": {},
   "outputs": [
    {
     "name": "stdout",
     "output_type": "stream",
     "text": [
      "Mean Goal Scored in 2018/19: 1.5684\n",
      "Mean Home Goal Scored by Chelsea 2.0526\n"
     ]
    }
   ],
   "source": [
    "df_s_1819 = df[df['seasonlabel']=='2018/19']\n",
    "\n",
    "mean_gs_1819 = round(df_s_1819['score_h'].mean(),4)\n",
    "\n",
    "print('Mean Goal Scored in 2018/19:' , mean_gs_1819)\n",
    "\n",
    "mean_gs_1819_c = round(df_s_1819[df_s_1819['team_h']=='Chelsea']['score_h'].mean(),4)\n",
    "\n",
    "print('Mean Home Goal Scored by Chelsea', mean_gs_1819_c)\n",
    "\n",
    "n_match = 5\n",
    "\n",
    "# sample_gs_1819_a = df_s_1819[df_s_1819['team_h']=='Arsenal']['score_h'].sample(n=5).sum()\n",
    "\n",
    "sample_gs_1819_a = 12"
   ]
  },
  {
   "cell_type": "code",
   "execution_count": 9,
   "metadata": {},
   "outputs": [
    {
     "name": "stdout",
     "output_type": "stream",
     "text": [
      "Test Value : 12\n",
      "y valye in Poisson equation 10.263\n",
      "Lower control:  0.025\n",
      "Upper control:  0.975\n"
     ]
    }
   ],
   "source": [
    "sample_gs_1819_a = 12\n",
    "confid_interval = (5/100)\n",
    "test_value = sample_gs_1819_a\n",
    "print ('Test Value :',test_value)\n",
    "lda = mean_gs_1819_c*n_match\n",
    "print (\"y valye in Poisson equation\",lda)\n",
    "l_ctl = (confid_interval/2)\n",
    "u_ctl = 1 - (confid_interval/2)\n",
    "print ('Lower control: ' , l_ctl)\n",
    "print ('Upper control: ' , u_ctl)"
   ]
  },
  {
   "cell_type": "code",
   "execution_count": 10,
   "metadata": {
    "collapsed": true
   },
   "outputs": [],
   "source": [
    "def get_poisson_prob(gs_count) :\n",
    "    poisson_prob = {}\n",
    "    for i in range (gs_count):\n",
    "        poisson_prob[i+1] = poisson.cdf(i,lda)\n",
    "    return poisson_prob"
   ]
  },
  {
   "cell_type": "code",
   "execution_count": 13,
   "metadata": {},
   "outputs": [
    {
     "name": "stdout",
     "output_type": "stream",
     "text": [
      "1 \t 3e-05\n",
      "2 \t 0.00039\n",
      "3 \t 0.00223\n",
      "4 \t 0.00852\n",
      "5 \t 0.02465\n",
      "6 \t 0.05777\n",
      "7 \t 0.11441\n",
      "8 \t 0.19746\n",
      "9 \t 0.304\n",
      "10 \t 0.42549\n",
      "11 \t 0.55017\n",
      "12 \t 0.6665\n",
      "13 \t 0.766\n",
      "14 \t 0.84454\n",
      "15 \t 0.90212\n",
      "16 \t 0.94152\n",
      "17 \t 0.96679\n",
      "18 \t 0.98204\n",
      "19 \t 0.99074\n",
      "20 \t 0.99544\n",
      "21 \t 0.99785\n",
      "22 \t 0.99903\n",
      "23 \t 0.99958\n",
      "24 \t 0.99982\n",
      "25 \t 0.99993\n"
     ]
    }
   ],
   "source": [
    "poisson_prob = get_poisson_prob(25)\n",
    "for k,v in poisson_prob.items():\n",
    "    print (k,'\\t',round(v,5))"
   ]
  },
  {
   "cell_type": "markdown",
   "metadata": {},
   "source": [
    "** We will do a two tailed test as per the null hypothesis**"
   ]
  },
  {
   "cell_type": "markdown",
   "metadata": {},
   "source": [
    "From the table above $P(k<=5) = 0.02465$ and $P(k>=18) = 0.01796$ "
   ]
  },
  {
   "cell_type": "markdown",
   "metadata": {},
   "source": [
    "** Our test value 12 lies between control value of 5 and 18 and hence we will accept the null hypothesis and reject alternate hypothesis**"
   ]
  }
 ],
 "metadata": {
  "kernelspec": {
   "display_name": "Python 3",
   "language": "python",
   "name": "python3"
  },
  "language_info": {
   "codemirror_mode": {
    "name": "ipython",
    "version": 3
   },
   "file_extension": ".py",
   "mimetype": "text/x-python",
   "name": "python",
   "nbconvert_exporter": "python",
   "pygments_lexer": "ipython3",
   "version": "3.6.1"
  }
 },
 "nbformat": 4,
 "nbformat_minor": 2
}
